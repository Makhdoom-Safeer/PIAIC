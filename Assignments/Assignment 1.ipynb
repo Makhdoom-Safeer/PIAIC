{
 "cells": [
  {
   "cell_type": "markdown",
   "metadata": {},
   "source": [
    "# Assignment 1"
   ]
  },
  {
   "cell_type": "code",
   "execution_count": 1,
   "metadata": {},
   "outputs": [
    {
     "name": "stdout",
     "output_type": "stream",
     "text": [
      "Input Radius: 0.5\n",
      "Area of Circle with radius 0.5 is 0.785\n"
     ]
    }
   ],
   "source": [
    "# Question 1 - Calculate Area of a Circle\n",
    "\n",
    "Radius = float(input(\"Input Radius: \"))\n",
    "Pi = 3.14\n",
    "Area_of_Circle = Pi * (Radius ** 2)\n",
    "\n",
    "print(\"Area of Circle with radius {} is {}\".format(Radius, Area_of_Circle))\n"
   ]
  },
  {
   "cell_type": "code",
   "execution_count": 2,
   "metadata": {},
   "outputs": [
    {
     "name": "stdout",
     "output_type": "stream",
     "text": [
      "Enter Number: -1\n",
      "Negative Number Entered\n"
     ]
    }
   ],
   "source": [
    "# Question 2 - Check Number either positive, negative or zero\n",
    "\n",
    "Number = int(input(\"Enter Number: \"))\n",
    "\n",
    "if Number < 0:\n",
    "    print(\"Negative Number Entered\")\n",
    "\n",
    "elif Number > 0:\n",
    "    print(\"Positive Number Entered\")\n",
    "\n",
    "else:\n",
    "    print(\"Zero Entered\")\n"
   ]
  },
  {
   "cell_type": "code",
   "execution_count": 3,
   "metadata": {},
   "outputs": [
    {
     "name": "stdout",
     "output_type": "stream",
     "text": [
      "Enter Numerator: 7\n",
      "Enter Denominator: 4\n",
      "Number 7 is not Completely divisible by 4\n"
     ]
    }
   ],
   "source": [
    "# Question 3 - Divisibility Check of two numbers\n",
    "\n",
    "Numerator = int(input(\"Enter Numerator: \"))\n",
    "Denominator = int(input(\"Enter Denominator: \"))\n",
    "\n",
    "if Numerator % Denominator == 0:\n",
    "    print(\"Number {} is Completely divisible by {}\".format(Numerator, Denominator))\n",
    "\n",
    "else:\n",
    "    print(\"Number {} is not Completely divisible by {}\".format(Numerator, Denominator))\n"
   ]
  },
  {
   "cell_type": "code",
   "execution_count": 4,
   "metadata": {},
   "outputs": [
    {
     "name": "stdout",
     "output_type": "stream",
     "text": [
      "Enter a date in (dd/mm/yy) format: 12/12/2018\n",
      "Enter a date in (dd/mm/yy) format: 16/12/2018\n",
      "There are 4 days in between 12/12/2018 and 16/12/2018\n"
     ]
    }
   ],
   "source": [
    "# Question 4 - Days Calculator\n",
    "\n",
    "from datetime import datetime\n",
    "Date_Format = \"%d/%m/%Y\"\n",
    "First_Date = input(\"Enter a date in (dd/mm/yy) format: \")\n",
    "Last_Date = input(\"Enter a date in (dd/mm/yy) format: \")\n",
    "First_Date_Converted = datetime.strptime(First_Date , Date_Format)\n",
    "Last_Date_Converted = datetime.strptime(Last_Date , Date_Format)\n",
    "Difference = Last_Date_Converted - First_Date_Converted\n",
    "print (\"There are {} days in between {} and {}\".format(Difference.days, First_Date, Last_Date))\n"
   ]
  },
  {
   "cell_type": "code",
   "execution_count": 5,
   "metadata": {},
   "outputs": [
    {
     "name": "stdout",
     "output_type": "stream",
     "text": [
      "Enter Radius of Sphere: 1\n",
      "Volume of the Sphere with Radius 1 is 4.1866666666666665\n"
     ]
    }
   ],
   "source": [
    "# Question 5 - Calculate Volume of a sphere\n",
    "\n",
    "Radius = int(input(\"Enter Radius of Sphere: \"))\n",
    "Pi = 3.14\n",
    "Volume_of_Sphere = (4/3) * (Pi) * (Radius ** 3)\n",
    "\n",
    "print(\"Volume of the Sphere with Radius {} is {}\".format(Radius, Volume_of_Sphere))\n"
   ]
  },
  {
   "cell_type": "code",
   "execution_count": 6,
   "metadata": {},
   "outputs": [
    {
     "name": "stdout",
     "output_type": "stream",
     "text": [
      "Enter String: Hi\n",
      "How many copies of String you need: 4\n",
      "Copies of Hi are HiHiHiHi\n"
     ]
    }
   ],
   "source": [
    "# Question 6 - Write a Python program to get a string which is n (non-negative integer) copies of a given string.\n",
    "\n",
    "String = input(\"Enter String: \")\n",
    "Copies = int(input(\"How many copies of String you need: \"))\n",
    "\n",
    "if Copies > 0:\n",
    "    print(\"Copies of {} are {}\".format(String, String * Copies))\n",
    "\n",
    "elif Copies < 0:\n",
    "    print(\"Number of copies cannot be negative\")\n",
    "\n",
    "else:\n",
    "    print(\"Number of copies cannot be zero\")\n"
   ]
  },
  {
   "cell_type": "code",
   "execution_count": 7,
   "metadata": {},
   "outputs": [
    {
     "name": "stdout",
     "output_type": "stream",
     "text": [
      "Enter Number: 4\n",
      "4 is Even\n"
     ]
    }
   ],
   "source": [
    "# Question 7 - Check if number is Even or Odd\n",
    "\n",
    "Number = int(input(\"Enter Number: \"))\n",
    "\n",
    "if Number % 2 == 0:\n",
    "    print(\"{} is Even\".format(Number))\n",
    "\n",
    "else:\n",
    "    print(\"{} is Odd\".format(Number))\n"
   ]
  },
  {
   "cell_type": "code",
   "execution_count": 8,
   "metadata": {},
   "outputs": [
    {
     "name": "stdout",
     "output_type": "stream",
     "text": [
      "Enter a character: A\n",
      "Letter A is a Vowel\n"
     ]
    }
   ],
   "source": [
    "# Question 8 - Vowel Tester\n",
    "\n",
    "Vowels = ['A', 'a', 'E', 'e', 'I', 'i', 'O', 'o', 'U', 'u']\n",
    "Char = input(\"Enter a character: \")\n",
    "\n",
    "for Variable in Vowels:\n",
    "    \n",
    "    if Char == Variable:\n",
    "        break\n",
    "\n",
    "    else:\n",
    "        continue\n",
    "\n",
    "if Char == Variable:\n",
    "    print(\"Letter {} is a Vowel\".format(Char))\n",
    "\n",
    "else:\n",
    "    print(\"Letter {} is not a Vowel\".format(Char))\n"
   ]
  },
  {
   "cell_type": "code",
   "execution_count": 9,
   "metadata": {},
   "outputs": [
    {
     "name": "stdout",
     "output_type": "stream",
     "text": [
      "Enter magnitude of Triangle base: 4\n",
      "Enter Magnitude of Triangle Height: 4\n",
      "Area of a Triangle with Height 4 and Base 4 is 8.0\n"
     ]
    }
   ],
   "source": [
    "# Question 9 - Triangle area\n",
    "\n",
    "Base = int(input(\"Enter magnitude of Triangle base: \"))\n",
    "Height = int(input(\"Enter Magnitude of Triangle Height: \"))\n",
    "Area_of_Triangle = (1 / 2) * (Base) * (Height)\n",
    "\n",
    "print(\"Area of a Triangle with Height {} and Base {} is {}\".format(Height, Base, Area_of_Triangle))\n"
   ]
  },
  {
   "cell_type": "code",
   "execution_count": 10,
   "metadata": {},
   "outputs": [
    {
     "name": "stdout",
     "output_type": "stream",
     "text": [
      "Please enter principal amount: 10000\n",
      "Please Enter Rate of interest in %: 0.1\n",
      "Enter number of years for investment: 5\n",
      "After 5 years your principal amount 10000 over an interest rate of 0.1 % will be 16105.100000000006\n"
     ]
    }
   ],
   "source": [
    "# Question 10 - Calculate Interest\n",
    "\n",
    "P = int(input(\"Please enter principal amount: \"))\n",
    "i = float(input(\"Please Enter Rate of interest in %: \"))\n",
    "N = int(input(\"Enter number of years for investment: \"))\n",
    "F = (P) * ((1 + i) ** N)\n",
    "\n",
    "print(\"After {} years your principal amount {} over an interest rate of {} % will be {}\".format(N, P, i , F))\n"
   ]
  },
  {
   "cell_type": "code",
   "execution_count": 11,
   "metadata": {},
   "outputs": [
    {
     "name": "stdout",
     "output_type": "stream",
     "text": [
      "Enter Co-ordinate for x1: 2\n",
      "Enter Co-ordinate for x2: 4\n",
      "Enter Co-ordinate for y1: 4\n",
      "Enter Co-ordinate for y2: 4\n",
      "Distance between points (2, 4) and (4, 4) is 2.0\n"
     ]
    }
   ],
   "source": [
    "# Question 11 - Euclidean distance\n",
    "\n",
    "from math import sqrt as sqrt\n",
    "\n",
    "x1 = int(input(\"Enter Co-ordinate for x1: \"))\n",
    "x2 = int(input(\"Enter Co-ordinate for x2: \"))\n",
    "y1 = int(input(\"Enter Co-ordinate for y1: \"))\n",
    "y2 = int(input(\"Enter Co-ordinate for y2: \"))\n",
    "\n",
    "Distance = sqrt((x2 - x1)**2 + (y2 - y1)**2)\n",
    "\n",
    "print(\"Distance between points ({}, {}) and ({}, {}) is {}\".format(x1,y1,x2,y2,Distance))\n"
   ]
  },
  {
   "cell_type": "code",
   "execution_count": 12,
   "metadata": {},
   "outputs": [
    {
     "name": "stdout",
     "output_type": "stream",
     "text": [
      "Enter Height in Feet: 5\n",
      "There are 152.4 Cm in 5 ft\n"
     ]
    }
   ],
   "source": [
    "# Question 12 - Feet to Centimeter Converter\n",
    "\n",
    "Feet = int(input(\"Enter Height in Feet: \"))\n",
    "Centimeter = Feet * 30.48\n",
    "print(\"There are {} Cm in {} ft\".format(Centimeter,Feet))\n"
   ]
  },
  {
   "cell_type": "code",
   "execution_count": 13,
   "metadata": {},
   "outputs": [
    {
     "name": "stdout",
     "output_type": "stream",
     "text": [
      "Enter Height in Cm: 180\n",
      "Enter Weight in Kg: 75\n",
      "Your BMI is 23.148148148148145\n"
     ]
    }
   ],
   "source": [
    "# Question 13 - BMI Calculator\n",
    "\n",
    "Height = int(input(\"Enter Height in Cm: \")) / 100\n",
    "Weight = int(input(\"Enter Weight in Kg: \"))\n",
    "BMI = Weight / (Height ** 2)\n",
    "\n",
    "print(\"Your BMI is {}\".format(BMI))\n"
   ]
  },
  {
   "cell_type": "code",
   "execution_count": 14,
   "metadata": {},
   "outputs": [
    {
     "name": "stdout",
     "output_type": "stream",
     "text": [
      "Enter value of n: 5\n",
      "Sum of n Positive integers till 5 is 15\n"
     ]
    }
   ],
   "source": [
    "# Question 14 - Sum of n Positive Integers\n",
    "\n",
    "n = int(input(\"Enter value of n: \"))\n",
    "Sum = int((n * (n + 1)) / 2)\n",
    "\n",
    "print(\"Sum of n Positive integers till {} is {}\".format(n, Sum))\n"
   ]
  },
  {
   "cell_type": "code",
   "execution_count": 15,
   "metadata": {},
   "outputs": [
    {
     "name": "stdout",
     "output_type": "stream",
     "text": [
      "Enter a number: 15\n",
      "Sum of the digits of Given Number = 6\n"
     ]
    }
   ],
   "source": [
    "# Question 15 - Digits Sum of a Number\n",
    "\n",
    "Number = int(input(\"Enter a number: \"))\n",
    "Sum = 0\n",
    "\n",
    "while(Number > 0):\n",
    "    Reminder = Number % 10\n",
    "    Sum = Sum + Reminder\n",
    "    Number = Number //10\n",
    "\n",
    "print(\"Sum of the digits of Given Number = %d\" %Sum)\n"
   ]
  },
  {
   "cell_type": "code",
   "execution_count": 16,
   "metadata": {},
   "outputs": [
    {
     "name": "stdout",
     "output_type": "stream",
     "text": [
      "Enter a decimal number: 5\n",
      "Binary Representation of 5 is 0101\n"
     ]
    }
   ],
   "source": [
    "# Question 16 - Decimal to Binary Converter\n",
    "\n",
    "Number = int(input(\"Enter a decimal number: \"))\n",
    "Entered_Number = Number\n",
    "Remainder = []\n",
    "while (Number > 0):\n",
    "    a = int((Number % 2))\n",
    "    Remainder.append(a)\n",
    "    Number = (Number - a) / 2\n",
    "Remainder.append(0)\n",
    "String = \"\"\n",
    "for j in Remainder[::-1]:\n",
    "    String = String + str(j)\n",
    "print(\"Binary Representation of {} is {}\".format(Entered_Number, String))\n"
   ]
  },
  {
   "cell_type": "code",
   "execution_count": 17,
   "metadata": {},
   "outputs": [
    {
     "name": "stdout",
     "output_type": "stream",
     "text": [
      "Enter a Binary number: 1101\n",
      "Decimal Representation of 1101 is 13\n"
     ]
    }
   ],
   "source": [
    "# Question 17 - Binary to Decimal Converter\n",
    "\n",
    "Binary_Number = input(\"Enter a Binary number: \")\n",
    "Decimal_Number = int(Binary_Number, 2)\n",
    "print(\"Decimal Representation of {} is {}\".format(Binary_Number, Decimal_Number))\n"
   ]
  },
  {
   "cell_type": "code",
   "execution_count": 18,
   "metadata": {},
   "outputs": [
    {
     "name": "stdout",
     "output_type": "stream",
     "text": [
      "Enter text: QuickBrownFoxJumpsovertheDog\n",
      "Vowels =  9\n",
      "Consonants =  19\n"
     ]
    }
   ],
   "source": [
    "# Question 18 - Vowel and Consonants Counter\n",
    "\n",
    "Vowels = 0\n",
    "Consonants = 0\n",
    "\n",
    "String = input(\"Enter text: \")\n",
    "\n",
    "for Char in String:\n",
    "    if Char == 'A' or Char == 'E' or Char == 'I' or Char == 'O' or Char == 'U' or Char == 'a' or Char == 'e' or Char == 'i' or Char == 'o' or Char == 'u':\n",
    "        Vowels += 1\n",
    "\n",
    "    else:\n",
    "        Consonants += 1\n",
    "\n",
    "print(\"Vowels = \", Vowels)\n",
    "print(\"Consonants = \", Consonants)\n"
   ]
  },
  {
   "cell_type": "code",
   "execution_count": 19,
   "metadata": {},
   "outputs": [
    {
     "name": "stdout",
     "output_type": "stream",
     "text": [
      "Enter text: AHA\n",
      "Text AHA is Palindrome\n"
     ]
    }
   ],
   "source": [
    "# Question 19 - Palindrome tester\n",
    "\n",
    "Text = input(\"Enter text: \")\n",
    "Test_Varibale = \"\"\n",
    "\n",
    "for i in Text:\n",
    "    Test_Varibale = i + Test_Varibale\n",
    "    \n",
    "if (Text == Test_Varibale):\n",
    "    print(\"Text {} is Palindrome\".format(Text))\n",
    "\n",
    "else:\n",
    "    print(\"Text {} is not a Palindrome\".format(Text))\n"
   ]
  },
  {
   "cell_type": "code",
   "execution_count": 20,
   "metadata": {},
   "outputs": [
    {
     "name": "stdout",
     "output_type": "stream",
     "text": [
      "Enter text: Python 3.2\n",
      "Numbers:  2\n",
      "Alphabets:  6\n",
      "Special Characters:  1\n",
      "Spaces:  1\n"
     ]
    }
   ],
   "source": [
    "# Question 20 - Count Alphabets, Numbers and Special Characters\n",
    "\n",
    "Numbers = 0\n",
    "Alphabets = 0\n",
    "Special_Characters = 0\n",
    "Spaces = 0\n",
    "\n",
    "Text = input(\"Enter text: \")\n",
    "\n",
    "for x in Text:\n",
    "    if (ord(x) >= 65 and ord(x) <= 90) or (ord(x) >= 97 and ord(x) <= 122):\n",
    "        Alphabets += 1\n",
    "        \n",
    "    elif ord(x) == 9 or ord(x) == 32:\n",
    "        Spaces += 1\n",
    "        \n",
    "    elif ord(x) >= 48 and ord(x) <= 57:\n",
    "        Numbers += 1\n",
    "        \n",
    "    else:\n",
    "        Special_Characters += 1\n",
    "\n",
    "print(\"Numbers: \",Numbers)\n",
    "print(\"Alphabets: \",Alphabets)\n",
    "print(\"Special Characters: \",Special_Characters)\n",
    "print(\"Spaces: \",Spaces)\n"
   ]
  },
  {
   "cell_type": "code",
   "execution_count": 21,
   "metadata": {},
   "outputs": [
    {
     "name": "stdout",
     "output_type": "stream",
     "text": [
      "Enter Number of Rows: 5\n",
      "* \n",
      "* * \n",
      "* * * \n",
      "* * * * \n",
      "* * * * * \n",
      "* * * * \n",
      "* * * \n",
      "* * \n",
      "* \n",
      "\n"
     ]
    }
   ],
   "source": [
    "# Question 21 - Write a Python program to construct the following pattern\n",
    "\n",
    "# *\n",
    "# **\n",
    "# ***\n",
    "# ****\n",
    "# *****\n",
    "# ****\n",
    "# ***\n",
    "# **\n",
    "# *\n",
    "\n",
    "Rows = int(input(\"Enter Number of Rows: \"))\n",
    "for i in range (0, Rows):\n",
    "    for j in range(0, i + 1):\n",
    "        print(\"*\", end = \" \")\n",
    "    print(\"\\r\")\n",
    "for i in range (Rows, 0, -1):\n",
    "    for j in range(0, i -1):\n",
    "        print(\"*\", end = \" \")\n",
    "    print(\"\\r\")\n"
   ]
  },
  {
   "cell_type": "code",
   "execution_count": 22,
   "metadata": {},
   "outputs": [
    {
     "name": "stdout",
     "output_type": "stream",
     "text": [
      "Enter Number of Rows: 5\n",
      "\n",
      "1 \n",
      "1 2 \n",
      "1 2 3 \n",
      "1 2 3 4 \n",
      "1 2 3 4 5 \n",
      "1 2 3 4 \n",
      "1 2 3 \n",
      "1 2 \n",
      "1 \n",
      "\n",
      "\n"
     ]
    }
   ],
   "source": [
    "# Question 22 - Write a Python program to construct the following pattern\n",
    "\n",
    "# 1\n",
    "# 1 2\n",
    "# 1 2 3\n",
    "# 1 2 3 4\n",
    "# 1 2 3 4 5\n",
    "# 1 2 3 4\n",
    "# 1 2 3\n",
    "# 1 2\n",
    "# 1\n",
    "\n",
    "Rows = int(input(\"Enter Number of Rows: \"))\n",
    "for i in range (0, Rows + 1):\n",
    "    for j in range(1, i + 1):\n",
    "        print(\"{}\".format(j), end = \" \")\n",
    "    print(\"\\r\")\n",
    "for i in range (Rows + 1, 0, -1):\n",
    "    for j in range(1, i -1):\n",
    "        print(\"{}\".format(j), end = \" \")\n",
    "    print(\"\\r\")\n"
   ]
  },
  {
   "cell_type": "code",
   "execution_count": 23,
   "metadata": {},
   "outputs": [
    {
     "name": "stdout",
     "output_type": "stream",
     "text": [
      "Enter Number of Rows: 9\n",
      "1\n",
      "22\n",
      "333\n",
      "4444\n",
      "55555\n",
      "666666\n",
      "7777777\n",
      "88888888\n",
      "999999999\n"
     ]
    }
   ],
   "source": [
    "# Question 23 - Write a Python program to construct the following pattern\n",
    "\n",
    "# 1\n",
    "# 2 2\n",
    "# 3 3 3\n",
    "# 4 4 4 4\n",
    "# 5 5 5 5 5\n",
    "# 6 6 6 6 6 6\n",
    "# 7 7 7 7 7 7 7\n",
    "# 8 8 8 8 8 8 8 8\n",
    "# 9 9 9 9 9 9 9 9 9\n",
    "\n",
    "Rows = int(input(\"Enter Number of Rows: \"))\n",
    "for i in range(0, Rows):\n",
    "    for j in range(i + 1):\n",
    "        print(i + 1, end = '')\n",
    "    print('\\r')\n"
   ]
  }
 ],
 "metadata": {
  "kernelspec": {
   "display_name": "Python 3",
   "language": "python",
   "name": "python3"
  },
  "language_info": {
   "codemirror_mode": {
    "name": "ipython",
    "version": 3
   },
   "file_extension": ".py",
   "mimetype": "text/x-python",
   "name": "python",
   "nbconvert_exporter": "python",
   "pygments_lexer": "ipython3",
   "version": "3.7.3"
  }
 },
 "nbformat": 4,
 "nbformat_minor": 2
}
