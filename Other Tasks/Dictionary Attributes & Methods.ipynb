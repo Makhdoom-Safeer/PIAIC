{
 "cells": [
  {
   "cell_type": "markdown",
   "metadata": {},
   "source": [
    "# Dictionary Attributes & Methods"
   ]
  },
  {
   "cell_type": "code",
   "execution_count": 1,
   "metadata": {},
   "outputs": [
    {
     "name": "stdout",
     "output_type": "stream",
     "text": [
      "{1: 'a', 2: 'b', 3: 'c'}\n"
     ]
    }
   ],
   "source": [
    "# This is my dictionary\n",
    "\n",
    "My_Dictionary = {\n",
    "    1:'a',\n",
    "    2:'b',\n",
    "    3:'c',\n",
    "                }\n",
    "\n",
    "print(My_Dictionary)"
   ]
  },
  {
   "cell_type": "code",
   "execution_count": 2,
   "metadata": {},
   "outputs": [
    {
     "name": "stdout",
     "output_type": "stream",
     "text": [
      "{}\n"
     ]
    }
   ],
   "source": [
    "# clear()\n",
    "\n",
    "My_Dictionary = {\n",
    "    1:'a',\n",
    "    2:'b',\n",
    "    3:'c',\n",
    "                }\n",
    "\n",
    "My_Dictionary.clear()\n",
    "print(My_Dictionary)"
   ]
  },
  {
   "cell_type": "code",
   "execution_count": 3,
   "metadata": {},
   "outputs": [
    {
     "name": "stdout",
     "output_type": "stream",
     "text": [
      "{1: 'a', 2: 'b', 3: 'c'}\n"
     ]
    }
   ],
   "source": [
    "# copy()\n",
    "\n",
    "My_Dictionary = {\n",
    "    1:'a',\n",
    "    2:'b',\n",
    "    3:'c',\n",
    "                }\n",
    "\n",
    "New_Dictionary = My_Dictionary.copy()\n",
    "print(New_Dictionary)"
   ]
  },
  {
   "cell_type": "code",
   "execution_count": 4,
   "metadata": {},
   "outputs": [
    {
     "name": "stdout",
     "output_type": "stream",
     "text": [
      "{1: 'Number', 2: 'Number', 3: 'Number'}\n"
     ]
    }
   ],
   "source": [
    "# fromkeys()\n",
    "\n",
    "My_Keys = {1, 2, 3}\n",
    "My_Values = \"Number\"\n",
    "My_Dictionary = dict.fromkeys(My_Keys, My_Values)\n",
    "print(My_Dictionary)"
   ]
  },
  {
   "cell_type": "code",
   "execution_count": 5,
   "metadata": {},
   "outputs": [
    {
     "name": "stdout",
     "output_type": "stream",
     "text": [
      "a\n"
     ]
    }
   ],
   "source": [
    "# get()\n",
    "\n",
    "My_Dictionary = {\n",
    "    1:'a',\n",
    "    2:'b',\n",
    "    3:'c',\n",
    "                }\n",
    "\n",
    "print(My_Dictionary.get(1))"
   ]
  },
  {
   "cell_type": "code",
   "execution_count": 6,
   "metadata": {},
   "outputs": [
    {
     "name": "stdout",
     "output_type": "stream",
     "text": [
      "dict_items([(1, 'a'), (2, 'b'), (3, 'c')])\n"
     ]
    }
   ],
   "source": [
    "# items()\n",
    "\n",
    "My_Dictionary = {\n",
    "    1:'a',\n",
    "    2:'b',\n",
    "    3:'c',\n",
    "                }\n",
    "\n",
    "print(My_Dictionary.items())"
   ]
  },
  {
   "cell_type": "code",
   "execution_count": 7,
   "metadata": {},
   "outputs": [
    {
     "name": "stdout",
     "output_type": "stream",
     "text": [
      "dict_keys([1, 2, 3])\n"
     ]
    }
   ],
   "source": [
    "# keys()\n",
    "\n",
    "My_Dictionary = {\n",
    "    1:'a',\n",
    "    2:'b',\n",
    "    3:'c',\n",
    "                }\n",
    "\n",
    "print(My_Dictionary.keys())"
   ]
  },
  {
   "cell_type": "code",
   "execution_count": 8,
   "metadata": {},
   "outputs": [
    {
     "name": "stdout",
     "output_type": "stream",
     "text": [
      "a\n"
     ]
    }
   ],
   "source": [
    "# pop()\n",
    "\n",
    "My_Dictionary = {\n",
    "    1:'a',\n",
    "    2:'b',\n",
    "    3:'c',\n",
    "                }\n",
    "\n",
    "print(My_Dictionary.pop(1))"
   ]
  },
  {
   "cell_type": "code",
   "execution_count": 9,
   "metadata": {},
   "outputs": [
    {
     "name": "stdout",
     "output_type": "stream",
     "text": [
      "(3, 'c')\n"
     ]
    }
   ],
   "source": [
    "# popitem()\n",
    "\n",
    "My_Dictionary = {\n",
    "    1:'a',\n",
    "    2:'b',\n",
    "    3:'c',\n",
    "                }\n",
    "\n",
    "print(My_Dictionary.popitem())"
   ]
  },
  {
   "cell_type": "code",
   "execution_count": 10,
   "metadata": {},
   "outputs": [
    {
     "name": "stdout",
     "output_type": "stream",
     "text": [
      "d\n"
     ]
    }
   ],
   "source": [
    "# setdefault()\n",
    "\n",
    "My_Dictionary = {\n",
    "    1:'a',\n",
    "    2:'b',\n",
    "    3:'c',\n",
    "                }\n",
    "\n",
    "print(My_Dictionary.setdefault(4, 'd'))"
   ]
  },
  {
   "cell_type": "code",
   "execution_count": 11,
   "metadata": {},
   "outputs": [
    {
     "name": "stdout",
     "output_type": "stream",
     "text": [
      "{1: 'a', 2: 'b', 3: 'c', 4: 'd'}\n"
     ]
    }
   ],
   "source": [
    "# update()\n",
    "\n",
    "My_Dictionary = {\n",
    "    1:'a',\n",
    "    2:'b',\n",
    "    3:'c',\n",
    "                }\n",
    "\n",
    "New_Item = {4: 'd'}\n",
    "My_Dictionary.update(New_Item)\n",
    "print(My_Dictionary)"
   ]
  },
  {
   "cell_type": "code",
   "execution_count": 12,
   "metadata": {},
   "outputs": [
    {
     "name": "stdout",
     "output_type": "stream",
     "text": [
      "dict_values(['a', 'b', 'c'])\n"
     ]
    }
   ],
   "source": [
    "# values()\n",
    "\n",
    "My_Dictionary = {\n",
    "    1:'a',\n",
    "    2:'b',\n",
    "    3:'c',\n",
    "                }\n",
    "\n",
    "print(My_Dictionary.values())"
   ]
  }
 ],
 "metadata": {
  "kernelspec": {
   "display_name": "Python 3",
   "language": "python",
   "name": "python3"
  },
  "language_info": {
   "codemirror_mode": {
    "name": "ipython",
    "version": 3
   },
   "file_extension": ".py",
   "mimetype": "text/x-python",
   "name": "python",
   "nbconvert_exporter": "python",
   "pygments_lexer": "ipython3",
   "version": "3.7.3"
  }
 },
 "nbformat": 4,
 "nbformat_minor": 2
}
